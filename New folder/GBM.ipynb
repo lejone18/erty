{
 "cells": [
  {
   "cell_type": "code",
   "execution_count": 2,
   "id": "7e724b39-1b96-46c7-a9b0-4367a6e12b78",
   "metadata": {},
   "outputs": [
    {
     "name": "stdout",
     "output_type": "stream",
     "text": [
      "Accuracy: 75.00%\n",
      "Confusion Matrix:\n",
      "[[10  3]\n",
      " [ 1  2]]\n"
     ]
    }
   ],
   "source": [
    "from sklearn.model_selection import train_test_split\n",
    "import string\n",
    "import pandas as pd\n",
    "import numpy as np\n",
    "import re\n",
    "import matplotlib.pyplot as plt\n",
    "import seaborn as sns\n",
    "from sklearn.ensemble import GradientBoostingClassifier  # Import GBM\n",
    "from sklearn.feature_extraction.text import TfidfVectorizer\n",
    "from sklearn import metrics\n",
    "\n",
    "# Load the dataset\n",
    "df = pd.read_csv('mycsv.csv')\n",
    "\n",
    "# Define a function to remove punctuation and convert text to lowercase\n",
    "def remove_pun(text):\n",
    "    for pun in string.punctuation:\n",
    "        text = text.replace(pun, \"\")\n",
    "    text = text.lower()\n",
    "    return text\n",
    "\n",
    "# Apply the function to the 'bullying_words' column\n",
    "df['bullying_words'] = df['bullying_words'].apply(remove_pun)\n",
    "\n",
    "# Split the data into features (X) and target (Y)\n",
    "X = df['bullying_words']\n",
    "Y = df['type_bully']\n",
    "\n",
    "# Split the data into training and testing sets\n",
    "X_train, X_test, Y_train, Y_test = train_test_split(X, Y, test_size=0.2)\n",
    "\n",
    "# Vectorize the text data\n",
    "vec = TfidfVectorizer(ngram_range=(1, 2), analyzer='char')\n",
    "X_train_vec = vec.fit_transform(X_train)\n",
    "X_test_vec = vec.transform(X_test)\n",
    "\n",
    "# Create a Gradient Boosting Machine model\n",
    "model_gbm = GradientBoostingClassifier(n_estimators=100, random_state=42)\n",
    "model_gbm.fit(X_train_vec, Y_train)\n",
    "\n",
    "# Make predictions\n",
    "predict_val = model_gbm.predict(X_test_vec)\n",
    "\n",
    "# Calculate accuracy\n",
    "accuracy = metrics.accuracy_score(Y_test, predict_val) * 100\n",
    "print(f'Accuracy: {accuracy:.2f}%')\n",
    "\n",
    "# Confusion matrix\n",
    "conf_matrix = metrics.confusion_matrix(Y_test, predict_val)\n",
    "print('Confusion Matrix:')\n",
    "print(conf_matrix)"
   ]
  },
  {
   "cell_type": "code",
   "execution_count": null,
   "id": "5602964e-10dd-424b-a437-9f93fc0d248c",
   "metadata": {},
   "outputs": [],
   "source": []
  }
 ],
 "metadata": {
  "kernelspec": {
   "display_name": "Python 3 (ipykernel)",
   "language": "python",
   "name": "python3"
  },
  "language_info": {
   "codemirror_mode": {
    "name": "ipython",
    "version": 3
   },
   "file_extension": ".py",
   "mimetype": "text/x-python",
   "name": "python",
   "nbconvert_exporter": "python",
   "pygments_lexer": "ipython3",
   "version": "3.12.2"
  }
 },
 "nbformat": 4,
 "nbformat_minor": 5
}
