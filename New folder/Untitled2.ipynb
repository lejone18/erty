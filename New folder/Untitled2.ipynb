{
 "cells": [
  {
   "cell_type": "code",
   "execution_count": 3,
   "id": "e96f1ee1-0c5f-4a4f-a78f-51ceab56d45b",
   "metadata": {},
   "outputs": [
    {
     "data": {
      "text/plain": [
       "197"
      ]
     },
     "execution_count": 3,
     "metadata": {},
     "output_type": "execute_result"
    }
   ],
   "source": [
    "from sklearn.model_selection import train_test_split\n",
    "import string\n",
    "import pandas as pd\n",
    "import numpy as np\n",
    "import re\n",
    "import matplotlib.pyplot as plt\n",
    "import seaborn as sns\n",
    "from sklearn.svm import SVC  # Import SVM\n",
    "from sklearn.feature_extraction.text import TfidfVectorizer\n",
    "from sklearn import metrics\n",
    "\n",
    "# Load the dataset\n",
    "df = pd.read_csv('csv.csv')\n",
    "df.head()\n",
    "# Define a function to remove punctuation and convert text to lowercase\n",
    "def remove_pun(text):\n",
    "    for pun in string.punctuation:\n",
    "        text = text.replace(pun, \"\")\n",
    "    text = text.lower()\n",
    "    return text\n",
    "\n",
    "# Apply the function to the 'bullying_words' column\n",
    "df['bullying_words'] = df['bullying_words'].apply(remove_pun)\n",
    "df['bullying_words'].value_counts()\n",
    "# Split the data into features (X) and target (Y)\n",
    "X = df['type_bully']\n",
    "Y = df['bullying_words']\n",
    "len(X)\n",
    "df['bullying_words'].value_counts()\n",
    "# Split the data into features (X) and target (Y)\n",
    "X = df['type_bully']\n",
    "Y = df['bullying_words']\n",
    "len(Y)\n"
   ]
  },
  {
   "cell_type": "code",
   "execution_count": 7,
   "id": "6b1a1aa3-9f94-482c-92ae-88323a27ff14",
   "metadata": {},
   "outputs": [],
   "source": [
    "from sklearn.feature_extraction.text import TfidfVectorizer\n",
    "from sklearn.naive_bayes import ComplementNB\n",
    "from sklearn.svm import LinearSVC\n",
    "from sklearn.pipeline import Pipeline\n",
    "from sklearn.metrics import accuracy_score\n",
    "from sklearn.model_selection import train_test_split"
   ]
  },
  {
   "cell_type": "code",
   "execution_count": 8,
   "id": "a75970d0-33a1-4674-ab29-6feebd1cf0e1",
   "metadata": {},
   "outputs": [
    {
     "ename": "NameError",
     "evalue": "name 'X_train' is not defined",
     "output_type": "error",
     "traceback": [
      "\u001b[1;31m---------------------------------------------------------------------------\u001b[0m",
      "\u001b[1;31mNameError\u001b[0m                                 Traceback (most recent call last)",
      "Cell \u001b[1;32mIn[8], line 4\u001b[0m\n\u001b[0;32m      2\u001b[0m pipeCNB \u001b[38;5;241m=\u001b[39m Pipeline([(\u001b[38;5;124m'\u001b[39m\u001b[38;5;124mtfidf\u001b[39m\u001b[38;5;124m'\u001b[39m,TfidfVectorizer(stop_words\u001b[38;5;241m=\u001b[39m\u001b[38;5;124m'\u001b[39m\u001b[38;5;124menglish\u001b[39m\u001b[38;5;124m'\u001b[39m, ngram_range\u001b[38;5;241m=\u001b[39m(\u001b[38;5;241m1\u001b[39m,\u001b[38;5;241m3\u001b[39m))), (\u001b[38;5;124m'\u001b[39m\u001b[38;5;124mclf\u001b[39m\u001b[38;5;124m'\u001b[39m, ComplementNB())])\n\u001b[0;32m      3\u001b[0m pipeSVC \u001b[38;5;241m=\u001b[39m Pipeline([(\u001b[38;5;124m'\u001b[39m\u001b[38;5;124mtfidf\u001b[39m\u001b[38;5;124m'\u001b[39m,TfidfVectorizer(stop_words\u001b[38;5;241m=\u001b[39m\u001b[38;5;124m'\u001b[39m\u001b[38;5;124menglish\u001b[39m\u001b[38;5;124m'\u001b[39m, ngram_range\u001b[38;5;241m=\u001b[39m(\u001b[38;5;241m1\u001b[39m,\u001b[38;5;241m3\u001b[39m))), (\u001b[38;5;124m'\u001b[39m\u001b[38;5;124mclf\u001b[39m\u001b[38;5;124m'\u001b[39m, LinearSVC())])\n\u001b[1;32m----> 4\u001b[0m pipeMNB\u001b[38;5;241m.\u001b[39mfit(X_train, Y_train)\n\u001b[0;32m      5\u001b[0m predictMNB \u001b[38;5;241m=\u001b[39m pipeMNB\u001b[38;5;241m.\u001b[39mpredict(X_test)\n\u001b[0;32m      6\u001b[0m \u001b[38;5;28mprint\u001b[39m(\u001b[38;5;124mf\u001b[39m\u001b[38;5;124m\"\u001b[39m\u001b[38;5;124mMNB:\u001b[39m\u001b[38;5;132;01m{\u001b[39;00maccuracy_score(Y_test,\u001b[38;5;250m \u001b[39mpredictMNB)\u001b[38;5;132;01m:\u001b[39;00m\u001b[38;5;124m.2f\u001b[39m\u001b[38;5;132;01m}\u001b[39;00m\u001b[38;5;124m\"\u001b[39m)\n",
      "\u001b[1;31mNameError\u001b[0m: name 'X_train' is not defined"
     ]
    }
   ],
   "source": [
    "pipeMNB = Pipeline([('tfidf',TfidfVectorizer(stop_words='english', ngram_range=(1,3))), ('clf', MultinomialNB())])\n",
    "pipeCNB = Pipeline([('tfidf',TfidfVectorizer(stop_words='english', ngram_range=(1,3))), ('clf', ComplementNB())])\n",
    "pipeSVC = Pipeline([('tfidf',TfidfVectorizer(stop_words='english', ngram_range=(1,3))), ('clf', LinearSVC())])\n",
    "pipeMNB.fit(X_train, Y_train)\n",
    "predictMNB = pipeMNB.predict(X_test)\n",
    "print(f\"MNB:{accuracy_score(Y_test, predictMNB):.2f}\")\n",
    "\n",
    "pipeCNB .fit(X_train, Y_train)\n",
    "predictCNB = pipeCNB .predict(X_test)\n",
    "print(f\"CNB:{accuracy_score(Y_test, predictMNB):.2f}\")\n",
    "\n",
    "pipeSVC.fit(X_train, Y_train)\n",
    "predictSVC = pipeSVC.predict(X_test)\n",
    "print(f\"SVC:{accuracy_score(Y_test, predictMNB):.2f}\")"
   ]
  },
  {
   "cell_type": "code",
   "execution_count": null,
   "id": "c4d31a34-979e-476a-9aac-60a4a5d715bb",
   "metadata": {},
   "outputs": [],
   "source": []
  }
 ],
 "metadata": {
  "kernelspec": {
   "display_name": "Python 3 (ipykernel)",
   "language": "python",
   "name": "python3"
  },
  "language_info": {
   "codemirror_mode": {
    "name": "ipython",
    "version": 3
   },
   "file_extension": ".py",
   "mimetype": "text/x-python",
   "name": "python",
   "nbconvert_exporter": "python",
   "pygments_lexer": "ipython3",
   "version": "3.12.2"
  }
 },
 "nbformat": 4,
 "nbformat_minor": 5
}
