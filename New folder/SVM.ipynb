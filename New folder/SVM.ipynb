{
 "cells": [
  {
   "cell_type": "code",
   "execution_count": 181,
   "id": "de0f8b22-b6dc-486f-b39b-164a054ce31d",
   "metadata": {},
   "outputs": [
    {
     "data": {
      "text/html": [
       "<div>\n",
       "<style scoped>\n",
       "    .dataframe tbody tr th:only-of-type {\n",
       "        vertical-align: middle;\n",
       "    }\n",
       "\n",
       "    .dataframe tbody tr th {\n",
       "        vertical-align: top;\n",
       "    }\n",
       "\n",
       "    .dataframe thead th {\n",
       "        text-align: right;\n",
       "    }\n",
       "</style>\n",
       "<table border=\"1\" class=\"dataframe\">\n",
       "  <thead>\n",
       "    <tr style=\"text-align: right;\">\n",
       "      <th></th>\n",
       "      <th>id</th>\n",
       "      <th>type_bully</th>\n",
       "      <th>bullying_words</th>\n",
       "    </tr>\n",
       "  </thead>\n",
       "  <tbody>\n",
       "    <tr>\n",
       "      <th>0</th>\n",
       "      <td>1000</td>\n",
       "      <td>bully</td>\n",
       "      <td>Hate</td>\n",
       "    </tr>\n",
       "    <tr>\n",
       "      <th>1</th>\n",
       "      <td>1001</td>\n",
       "      <td>bully</td>\n",
       "      <td>Insult</td>\n",
       "    </tr>\n",
       "    <tr>\n",
       "      <th>2</th>\n",
       "      <td>1002</td>\n",
       "      <td>bully</td>\n",
       "      <td>Threat</td>\n",
       "    </tr>\n",
       "    <tr>\n",
       "      <th>3</th>\n",
       "      <td>1003</td>\n",
       "      <td>bully</td>\n",
       "      <td>Mockery</td>\n",
       "    </tr>\n",
       "    <tr>\n",
       "      <th>4</th>\n",
       "      <td>1004</td>\n",
       "      <td>bully</td>\n",
       "      <td>Tease</td>\n",
       "    </tr>\n",
       "    <tr>\n",
       "      <th>...</th>\n",
       "      <td>...</td>\n",
       "      <td>...</td>\n",
       "      <td>...</td>\n",
       "    </tr>\n",
       "    <tr>\n",
       "      <th>193</th>\n",
       "      <td>1195</td>\n",
       "      <td>bully</td>\n",
       "      <td>u mokoto</td>\n",
       "    </tr>\n",
       "    <tr>\n",
       "      <th>194</th>\n",
       "      <td>1196</td>\n",
       "      <td>bully</td>\n",
       "      <td>ua khala</td>\n",
       "    </tr>\n",
       "    <tr>\n",
       "      <th>195</th>\n",
       "      <td>1197</td>\n",
       "      <td>bully</td>\n",
       "      <td>wortless</td>\n",
       "    </tr>\n",
       "    <tr>\n",
       "      <th>196</th>\n",
       "      <td>1198</td>\n",
       "      <td>bully</td>\n",
       "      <td>u mohetene</td>\n",
       "    </tr>\n",
       "    <tr>\n",
       "      <th>197</th>\n",
       "      <td>1199</td>\n",
       "      <td>non-bully</td>\n",
       "      <td>We love you</td>\n",
       "    </tr>\n",
       "  </tbody>\n",
       "</table>\n",
       "<p>198 rows × 3 columns</p>\n",
       "</div>"
      ],
      "text/plain": [
       "       id type_bully bullying_words\n",
       "0    1000      bully           Hate\n",
       "1    1001      bully       Insult  \n",
       "2    1002      bully      Threat   \n",
       "3    1003      bully      Mockery  \n",
       "4    1004      bully     Tease     \n",
       "..    ...        ...            ...\n",
       "193  1195      bully       u mokoto\n",
       "194  1196      bully       ua khala\n",
       "195  1197      bully       wortless\n",
       "196  1198      bully     u mohetene\n",
       "197  1199  non-bully    We love you\n",
       "\n",
       "[198 rows x 3 columns]"
      ]
     },
     "execution_count": 181,
     "metadata": {},
     "output_type": "execute_result"
    }
   ],
   "source": [
    "from sklearn.model_selection import train_test_split\n",
    "import string\n",
    "import pandas as pd\n",
    "import numpy as np\n",
    "import re\n",
    "import matplotlib.pyplot as plt\n",
    "import seaborn as sns\n",
    "from sklearn.svm import SVC  # Import SVM\n",
    "from sklearn.feature_extraction.text import TfidfVectorizer\n",
    "from sklearn import metrics\n",
    "\n",
    "# Load the dataset\n",
    "df = pd.read_csv('csv.csv')\n",
    "df.head()\n",
    "df"
   ]
  },
  {
   "cell_type": "code",
   "execution_count": 182,
   "id": "89eb270b-ea7a-4b4a-af9b-9662a4f5a327",
   "metadata": {},
   "outputs": [],
   "source": [
    "# Define a function to remove punctuation and convert text to lowercase\n",
    "def remove_pun(text):\n",
    "    for pun in string.punctuation:\n",
    "        text = text.replace(pun, \"\")\n",
    "    text = text.lower()\n",
    "    return text\n",
    "\n",
    "# Apply the function to the 'bullying_words' column\n",
    "df['bullying_words'] = df['bullying_words'].apply(remove_pun)"
   ]
  },
  {
   "cell_type": "code",
   "execution_count": 183,
   "id": "67aec837-aae9-4f6e-b88e-ce87c56b89d2",
   "metadata": {},
   "outputs": [
    {
     "data": {
      "text/plain": [
       "198"
      ]
     },
     "execution_count": 183,
     "metadata": {},
     "output_type": "execute_result"
    }
   ],
   "source": [
    "df['bullying_words'].value_counts()\n",
    "# Split the data into features (X) and target (Y)\n",
    "X = df['bullying_words']\n",
    "Y = df['type_bully']\n",
    "len(Y)"
   ]
  },
  {
   "cell_type": "code",
   "execution_count": 184,
   "id": "36037df5-cd6b-4f2d-8cac-52d8c4e3153f",
   "metadata": {},
   "outputs": [],
   "source": [
    "# Split the data into training and testing sets\n",
    "X_train, X_test, Y_train, Y_test = train_test_split(X, Y, test_size=0.8)\n"
   ]
  },
  {
   "cell_type": "code",
   "execution_count": 185,
   "id": "61164c03-59f0-4486-9deb-aa415935bd2f",
   "metadata": {},
   "outputs": [
    {
     "data": {
      "text/plain": [
       "39"
      ]
     },
     "execution_count": 185,
     "metadata": {},
     "output_type": "execute_result"
    }
   ],
   "source": [
    "len(X_train)"
   ]
  },
  {
   "cell_type": "code",
   "execution_count": 186,
   "id": "8f4843d1-7999-4fb5-80d1-ff6cf2bf3ea9",
   "metadata": {},
   "outputs": [],
   "source": [
    "from sklearn.pipeline import Pipeline\n",
    "from sklearn.naive_bayes import MultinomialNB, ComplementNB\n",
    "from sklearn.svm import LinearSVC\n",
    "from sklearn.metrics import accuracy_score, classification_report"
   ]
  },
  {
   "cell_type": "code",
   "execution_count": 187,
   "id": "9a8cad76-9e40-422d-becf-8431c64094ff",
   "metadata": {},
   "outputs": [],
   "source": [
    "pipeMNB = Pipeline([('tfidf',TfidfVectorizer(stop_words='english', ngram_range=(1,3))), ('clf', MultinomialNB())])\n",
    "pipeCNB = Pipeline([('tfidf',TfidfVectorizer(stop_words='english', ngram_range=(1,3))), ('clf', ComplementNB())])\n",
    "pipeSVC = Pipeline([('tfidf',TfidfVectorizer(stop_words='english', ngram_range=(1,3))), ('clf', LinearSVC())])\n",
    "# pipeSVC = Pipeline([('tfidf', TfidfVectorizer(stop_words='english', ngram_range=(1,3))), ('clf', LinearSVC(dual=False))])\n"
   ]
  },
  {
   "cell_type": "code",
   "execution_count": 188,
   "id": "c55a16b4-ec0f-4189-8c1e-41169f23d8cf",
   "metadata": {},
   "outputs": [
    {
     "name": "stdout",
     "output_type": "stream",
     "text": [
      "MNB:0.70\n",
      "CNB:0.70\n",
      "SVC:0.70\n"
     ]
    },
    {
     "name": "stderr",
     "output_type": "stream",
     "text": [
      "C:\\Users\\lejone\\.conda\\envs\\project\\Lib\\site-packages\\sklearn\\svm\\_classes.py:32: FutureWarning: The default value of `dual` will change from `True` to `'auto'` in 1.5. Set the value of `dual` explicitly to suppress the warning.\n",
      "  warnings.warn(\n"
     ]
    }
   ],
   "source": [
    "pipeMNB.fit(X_train, Y_train)\n",
    "predictMNB = pipeMNB.predict(X_test)\n",
    "print(f\"MNB:{accuracy_score(Y_test, predictMNB):.2f}\")\n",
    "\n",
    "pipeCNB .fit(X_train, Y_train)\n",
    "predictCNB = pipeCNB .predict(X_test)\n",
    "print(f\"CNB:{accuracy_score(Y_test, predictMNB):.2f}\")\n",
    "\n",
    "pipeSVC.fit(X_train, Y_train)\n",
    "predictSVC = pipeSVC.predict(X_test)\n",
    "print(f\"SVC:{accuracy_score(Y_test, predictMNB):.2f}\")\n"
   ]
  },
  {
   "cell_type": "code",
   "execution_count": 196,
   "id": "45b4297b-5534-4cc3-b64b-7e4af9f84f79",
   "metadata": {},
   "outputs": [
    {
     "name": "stdout",
     "output_type": "stream",
     "text": [
      "              precision    recall  f1-score   support\n",
      "\n",
      "       bully       0.73      0.98      0.84       112\n",
      "         non       0.00      0.00      0.00        13\n",
      "   non-bully       0.33      0.03      0.05        34\n",
      "\n",
      "    accuracy                           0.70       159\n",
      "   macro avg       0.35      0.34      0.30       159\n",
      "weighted avg       0.58      0.70      0.60       159\n",
      "\n"
     ]
    }
   ],
   "source": [
    "print(classification_report(Y_test, predictCNB))"
   ]
  },
  {
   "cell_type": "code",
   "execution_count": 199,
   "id": "4e7035c0-3a09-4f71-9462-a175ea9fb07e",
   "metadata": {},
   "outputs": [
    {
     "name": "stdout",
     "output_type": "stream",
     "text": [
      "bully\n"
     ]
    }
   ],
   "source": [
    "test = \"we love you\"\n",
    "clsf = pipeCNB.predict([test])\n",
    "print(clsf[0])"
   ]
  },
  {
   "cell_type": "code",
   "execution_count": null,
   "id": "4953edb4-5612-497f-9ca6-634065522716",
   "metadata": {},
   "outputs": [],
   "source": []
  }
 ],
 "metadata": {
  "kernelspec": {
   "display_name": "Python 3 (ipykernel)",
   "language": "python",
   "name": "python3"
  },
  "language_info": {
   "codemirror_mode": {
    "name": "ipython",
    "version": 3
   },
   "file_extension": ".py",
   "mimetype": "text/x-python",
   "name": "python",
   "nbconvert_exporter": "python",
   "pygments_lexer": "ipython3",
   "version": "3.12.2"
  }
 },
 "nbformat": 4,
 "nbformat_minor": 5
}
