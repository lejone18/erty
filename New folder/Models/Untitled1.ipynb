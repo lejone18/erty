{
 "cells": [
  {
   "cell_type": "code",
   "execution_count": 1,
   "id": "522347b2-5973-4707-b2a8-82fa8d4c13a2",
   "metadata": {},
   "outputs": [
    {
     "name": "stdout",
     "output_type": "stream",
     "text": [
      "              precision    recall  f1-score   support\n",
      "\n",
      "       bully       0.69      0.90      0.78        10\n",
      "   non-bully       0.86      0.60      0.71        10\n",
      "\n",
      "    accuracy                           0.75        20\n",
      "   macro avg       0.77      0.75      0.74        20\n",
      "weighted avg       0.77      0.75      0.74        20\n",
      "\n"
     ]
    }
   ],
   "source": [
    "from sklearn.feature_extraction.text import TfidfVectorizer\n",
    "from sklearn.linear_model import LogisticRegression\n",
    "from sklearn.pipeline import Pipeline\n",
    "from sklearn.metrics import classification_report\n",
    "from sklearn.model_selection import train_test_split\n",
    "import pandas as pd\n",
    "import spacy\n",
    "\n",
    "# Load the dataset\n",
    "df = pd.read_csv(\"csv.csv\")\n",
    "\n",
    "# Under sampling taking random sample\n",
    "min_sample = 50\n",
    "df_bully = df[df.type_bully == \"bully\"].sample(min_sample, random_state=40)\n",
    "df_non_bully = df[df.type_bully == \"non-bully\"].sample(min_sample, random_state=40)\n",
    "\n",
    "# Combine the balanced dataframes\n",
    "df_balanced = pd.concat([df_bully, df_non_bully], axis=0)\n",
    "\n",
    "# Split the data into training and testing sets\n",
    "X_train, X_test, Y_train, Y_test = train_test_split(\n",
    "    df_balanced.bullying_words,\n",
    "    df_balanced.type_bully,\n",
    "    test_size=0.2,\n",
    "    random_state=40,\n",
    "    stratify=df_balanced.type_bully\n",
    ")\n",
    "\n",
    "# Load the spaCy English model\n",
    "nlp = spacy.load('en_core_web_sm')\n",
    "\n",
    "# Define the preprocess function to handle NaN values\n",
    "def preprocess(bullying_words):\n",
    "    if pd.notnull(bullying_words):  \n",
    "        doc = nlp(bullying_words)\n",
    "        filtered_tokens = []\n",
    "        for token in doc:\n",
    "            if not token.is_stop and not token.is_punct and not token.like_num:\n",
    "                filtered_tokens.append(token.lemma_)\n",
    "        return ' '.join(filtered_tokens)\n",
    "    else:\n",
    "        return ''  \n",
    "\n",
    "# Apply the preprocess function to create a new column 'processed_text'\n",
    "df_balanced['processed_text'] = df_balanced['bullying_words'].apply(preprocess)\n",
    "\n",
    "# Create a pipeline with TfidfVectorizer and LogisticRegression\n",
    "lejone_tfidf = Pipeline([\n",
    "    ('vectorizer', TfidfVectorizer(ngram_range=(1, 3))),\n",
    "    ('classifier', LogisticRegression(max_iter=1000))\n",
    "])\n",
    "\n",
    "# Fit the pipeline on the training data\n",
    "lejone_tfidf.fit(X_train, Y_train)\n",
    "\n",
    "# Make predictions on the testing data\n",
    "Y_pred_tfidf = lejone_tfidf.predict(X_test)\n",
    "\n",
    "# Evaluate the TF-IDF based model\n",
    "print(classification_report(Y_test, Y_pred_tfidf))\n"
   ]
  },
  {
   "cell_type": "code",
   "execution_count": 3,
   "id": "1c371ab0-d2cf-4b63-86e2-d274e0a765ed",
   "metadata": {},
   "outputs": [
    {
     "data": {
      "text/plain": [
       "75.0"
      ]
     },
     "execution_count": 3,
     "metadata": {},
     "output_type": "execute_result"
    }
   ],
   "source": [
    "from sklearn import metrics\n",
    "metrics.accuracy_score(Y_test, Y_pred_tfidf)*100"
   ]
  },
  {
   "cell_type": "code",
   "execution_count": null,
   "id": "e6e8384c-f8a8-4c41-9e7d-41f04a845ec6",
   "metadata": {},
   "outputs": [],
   "source": []
  }
 ],
 "metadata": {
  "kernelspec": {
   "display_name": "Python 3 (ipykernel)",
   "language": "python",
   "name": "python3"
  },
  "language_info": {
   "codemirror_mode": {
    "name": "ipython",
    "version": 3
   },
   "file_extension": ".py",
   "mimetype": "text/x-python",
   "name": "python",
   "nbconvert_exporter": "python",
   "pygments_lexer": "ipython3",
   "version": "3.12.2"
  }
 },
 "nbformat": 4,
 "nbformat_minor": 5
}
