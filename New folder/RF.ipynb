{
 "cells": [
  {
   "cell_type": "code",
   "execution_count": 17,
   "id": "b2a5ae12-5fd4-4311-b41b-2dcf30c9b93d",
   "metadata": {},
   "outputs": [],
   "source": [
    "from sklearn.model_selection import train_test_split\n",
    "import string \n",
    "import pandas as pd \n",
    "import numpy as np\n",
    "import re\n",
    "import matplotlib.pyplot as plt\n",
    "import seaborn as sns\n",
    "from sklearn.ensemble import RandomForestClassifier  # Import Random Forest\n",
    "from sklearn import metrics\n",
    "# Load the dataset\n",
    "df = pd.read_csv('mycsv.csv')"
   ]
  },
  {
   "cell_type": "code",
   "execution_count": 18,
   "id": "2046068e-436e-4397-8a26-4f5240b27047",
   "metadata": {},
   "outputs": [],
   "source": [
    "# Define a function to remove punctuation and convert text to lowercase\n",
    "def remove_pun(text):\n",
    "    for pun in string.punctuation:\n",
    "        text = text.replace(pun, \"\")\n",
    "    text = text.lower()\n",
    "    return text"
   ]
  },
  {
   "cell_type": "code",
   "execution_count": 19,
   "id": "a045d2ce-0017-4693-afc8-9ae57fc64d50",
   "metadata": {},
   "outputs": [],
   "source": [
    "# Apply the function to the 'bullying_words' column\n",
    "df['bullying_words'] = df['bullying_words'].apply(remove_pun)\n",
    "# Split the data into features (X) and target (Y)\n",
    "X = df['bullying_words']\n",
    "Y = df['type_bully']\n",
    "# Split the data into training and testing sets\n",
    "X_train, X_test, Y_train, Y_test = train_test_split(X, Y, test_size=0.2)"
   ]
  },
  {
   "cell_type": "code",
   "execution_count": 20,
   "id": "d9fc72b3-698f-4991-ae00-a77a7a559257",
   "metadata": {},
   "outputs": [],
   "source": [
    "# Vectorize the text data\n",
    "from sklearn.feature_extraction.text import TfidfVectorizer\n",
    "vec = TfidfVectorizer(ngram_range=(1,2), analyzer='char')\n",
    "X_train_vec = vec.fit_transform(X_train)\n",
    "X_test_vec = vec.transform(X_test)"
   ]
  },
  {
   "cell_type": "code",
   "execution_count": 21,
   "id": "44a60b18-b403-4636-a330-28e155487af5",
   "metadata": {},
   "outputs": [
    {
     "name": "stdout",
     "output_type": "stream",
     "text": [
      "Accuracy: 87.50%\n"
     ]
    }
   ],
   "source": [
    "# Create a Random Forest model\n",
    "model_rf = RandomForestClassifier(n_estimators=100, random_state=42)\n",
    "model_rf.fit(X_train_vec, Y_train)\n",
    "# Make predictions\n",
    "predict_val = model_rf.predict(X_test_vec)\n",
    "# Calculate accuracy\n",
    "accuracy = metrics.accuracy_score(Y_test, predict_val) * 100\n",
    "print(f'Accuracy: {accuracy:.2f}%')"
   ]
  },
  {
   "cell_type": "code",
   "execution_count": 22,
   "id": "eefb9540-04cd-417b-bdad-113873ffadca",
   "metadata": {},
   "outputs": [
    {
     "name": "stdout",
     "output_type": "stream",
     "text": [
      "Confusion Matrix:\n",
      "[[13  0]\n",
      " [ 2  1]]\n"
     ]
    }
   ],
   "source": [
    "# Confusion matrix\n",
    "conf_matrix = metrics.confusion_matrix(Y_test, predict_val)\n",
    "print('Confusion Matrix:')\n",
    "print(conf_matrix)"
   ]
  },
  {
   "cell_type": "code",
   "execution_count": null,
   "id": "34f42f43-58b2-408a-9c86-669511734db8",
   "metadata": {},
   "outputs": [],
   "source": []
  }
 ],
 "metadata": {
  "kernelspec": {
   "display_name": "Python 3 (ipykernel)",
   "language": "python",
   "name": "python3"
  },
  "language_info": {
   "codemirror_mode": {
    "name": "ipython",
    "version": 3
   },
   "file_extension": ".py",
   "mimetype": "text/x-python",
   "name": "python",
   "nbconvert_exporter": "python",
   "pygments_lexer": "ipython3",
   "version": "3.12.2"
  }
 },
 "nbformat": 4,
 "nbformat_minor": 5
}
